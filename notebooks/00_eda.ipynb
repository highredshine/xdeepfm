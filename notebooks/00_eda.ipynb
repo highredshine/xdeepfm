{
 "cells": [],
 "metadata": {
  "orig_nbformat": 4,
  "language_info": {
   "name": "python",
   "version": "3.8.3",
   "mimetype": "text/x-python",
   "codemirror_mode": {
    "name": "ipython",
    "version": 3
   },
   "pygments_lexer": "ipython3",
   "nbconvert_exporter": "python",
   "file_extension": ".py"
  },
  "kernelspec": {
   "name": "python3",
   "display_name": "Python 3.8.3 64-bit ('spark_env': venv)"
  },
  "interpreter": {
   "hash": "cbd00c821f95a944214997dd427eefdde1d084262d7f8af9578cdbb590f8db6c"
  }
 },
 "nbformat": 4,
 "nbformat_minor": 2
}